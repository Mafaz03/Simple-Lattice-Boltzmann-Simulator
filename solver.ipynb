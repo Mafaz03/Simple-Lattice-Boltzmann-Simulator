{
 "cells": [
  {
   "cell_type": "code",
   "execution_count": 3,
   "id": "c714249d",
   "metadata": {},
   "outputs": [],
   "source": [
    "import numpy as np\n",
    "from matplotlib import pyplot"
   ]
  },
  {
   "cell_type": "code",
   "execution_count": 34,
   "id": "350e3ad8",
   "metadata": {},
   "outputs": [],
   "source": [
    "def distance(x1, y1, x2, y2):\n",
    "    np.sqrt((x2 - x1)**2 + (y2 - y1)**2)"
   ]
  },
  {
   "cell_type": "code",
   "execution_count": null,
   "id": "418f0f59",
   "metadata": {},
   "outputs": [],
   "source": [
    "Nx = 400 # How many cells in x axis\n",
    "Ny = 100 # How many cells in y axis\n",
    "\n",
    "tau = 0.53 # Time scale\n",
    "Nt = 3000 # TIme steps\n",
    "\n",
    "# lattice speeds and weights\n",
    "NL = 9 # 9 differentt velocities\n",
    "csx = np.array([0, 0, 1, 1, 1, 0, -1, -1, -1])\n",
    "cys = np.array([0, 1, 1, 0, -1, -1, -1, 0, 1])\n",
    "weights = np.array([4/9 , 1/9, 1/36, 1/9, 1/36, 1/9, 1/36, 1/9, 1/36])\n",
    "\n",
    "# Initial Condition\n",
    "F = np.ones((Ny, Nx, NL)) + (0.1 * np.random.randn(Ny, Nx, NL))\n",
    "F[:, :, 3] = 2.3 # Every right node gets a nudge to the right \n",
    "\n",
    "cylinder = np.full((Ny, Nx), False) # False = NOT a Boundary, True = IS a Boundary\n",
    "cylinder_radius = 13\n",
    "\n",
    "# Defining Obsticle\n",
    "for x in range(Nx):\n",
    "    for y in range(Ny):\n",
    "        if distance(Nx//4, Ny//2, x, y) <= cylinder_radius:\n",
    "            cylinder[x][y] = True "
   ]
  },
  {
   "cell_type": "code",
   "execution_count": 40,
   "id": "0d3febe1",
   "metadata": {},
   "outputs": [
    {
     "data": {
      "text/plain": [
       "array([[1, 2, 3],\n",
       "       [4, 5, 6],\n",
       "       [7, 8, 9]])"
      ]
     },
     "execution_count": 40,
     "metadata": {},
     "output_type": "execute_result"
    }
   ],
   "source": [
    "np.array([[1, 2, 3], [4, 5, 6], [7, 8, 9]])"
   ]
  },
  {
   "cell_type": "code",
   "execution_count": 45,
   "id": "ae7f3905",
   "metadata": {},
   "outputs": [
    {
     "data": {
      "text/plain": [
       "array([[3, 1, 2],\n",
       "       [6, 4, 5],\n",
       "       [9, 7, 8]])"
      ]
     },
     "execution_count": 45,
     "metadata": {},
     "output_type": "execute_result"
    }
   ],
   "source": [
    "np.roll(np.array([[1, 2, 3], [4, 5, 6], [7, 8, 9]]), 1, axis = 1)"
   ]
  },
  {
   "cell_type": "code",
   "execution_count": 33,
   "id": "994f4cad",
   "metadata": {},
   "outputs": [
    {
     "data": {
      "text/plain": [
       "(2, 3, 4)"
      ]
     },
     "execution_count": 33,
     "metadata": {},
     "output_type": "execute_result"
    }
   ],
   "source": [
    "np.full((2,3,4), 2).shape"
   ]
  },
  {
   "cell_type": "code",
   "execution_count": null,
   "id": "9aa1fbcd",
   "metadata": {},
   "outputs": [],
   "source": []
  }
 ],
 "metadata": {
  "kernelspec": {
   "display_name": "Python 3",
   "language": "python",
   "name": "python3"
  },
  "language_info": {
   "codemirror_mode": {
    "name": "ipython",
    "version": 3
   },
   "file_extension": ".py",
   "mimetype": "text/x-python",
   "name": "python",
   "nbconvert_exporter": "python",
   "pygments_lexer": "ipython3",
   "version": "3.11.5"
  }
 },
 "nbformat": 4,
 "nbformat_minor": 5
}
