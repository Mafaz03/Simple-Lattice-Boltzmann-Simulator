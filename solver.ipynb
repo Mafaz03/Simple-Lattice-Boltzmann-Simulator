{
 "cells": [
  {
   "cell_type": "code",
   "execution_count": 67,
   "id": "c714249d",
   "metadata": {},
   "outputs": [],
   "source": [
    "import numpy as np\n",
    "from matplotlib import pyplot as plt"
   ]
  },
  {
   "cell_type": "code",
   "execution_count": 48,
   "id": "350e3ad8",
   "metadata": {},
   "outputs": [],
   "source": [
    "def distance(x1, y1, x2, y2):\n",
    "    return np.sqrt((x2 - x1)**2 + (y2 - y1)**2)"
   ]
  },
  {
   "cell_type": "code",
   "execution_count": 80,
   "id": "418f0f59",
   "metadata": {},
   "outputs": [
    {
     "data": {
      "image/png": "[encoded data removed]",
      "text/plain": [
       "<Figure size 640x480 with 1 Axes>"
      ]
     },
     "metadata": {},
     "output_type": "display_data"
    }
   ],
   "source": [
    "Nx = 400 # How many cells in x axis\n",
    "Ny = 100 # How many cells in y axis\n",
    "\n",
    "tau = 0.53 # Time scale\n",
    "Nt = 3000 # TIme steps\n",
    "\n",
    "# lattice speeds and weights\n",
    "NL = 9 # 9 differentt velocities\n",
    "cxs = np.array([0, 0, 1, 1, 1, 0, -1, -1, -1])\n",
    "cys = np.array([0, 1, 1, 0, -1, -1, -1, 0, 1])\n",
    "weights = np.array([4/9 , 1/9, 1/36, 1/9, 1/36, 1/9, 1/36, 1/9, 1/36])\n",
    "\n",
    "# Initial Condition\n",
    "F = np.ones((Ny, Nx, NL)) + (0.1 * np.random.randn(Ny, Nx, NL))\n",
    "F[:, :, 3] = 2.3 # Every right node gets a nudge to the right \n",
    "\n",
    "cylinder = np.full((Ny, Nx), False) # False = NOT a Boundary, True = IS a Boundary\n",
    "cylinder_radius = 13\n",
    "\n",
    "# Defining Obsticle\n",
    "for x in range(Nx):\n",
    "    for y in range(Ny):\n",
    "        if distance(Nx//4, Ny//2, x, y) <= cylinder_radius:\n",
    "            cylinder[y][x] = True \n",
    "\n",
    "plt.axis(\"off\")\n",
    "plt.imshow(cylinder)\n",
    "plt.show()\n"
   ]
  },
  {
   "cell_type": "code",
   "execution_count": null,
   "id": "0d3febe1",
   "metadata": {},
   "outputs": [],
   "source": [
    "for it in range(Nt):\n",
    "    for i, cx, cy in zip(range(NL), cxs, cys):\n",
    "        F[:, :, i] = np.roll(F[:, :, i], cx, axis = 1)\n",
    "        F[:, :, i] = np.roll(F[:, :, i], cx, axis = 0)\n",
    "    BoundaryF = F[cylinder, :]\n",
    "    BoundaryF[:, [0, 5, 6, 7, 8, 1, 2, 3, 4]] # If particles are inside the Boundary, then make them go Opposite Direction\n",
    "\n",
    "    # Fluid Variables\n",
    "    rho = np.sum(F, axis = -1) # Density\n",
    "    momentumx = np.sum(F * cxs, axis = -1) / rho\n",
    "    momentumy = np.sum(F * cys, axis = -1) / rho\n",
    "\n",
    "    F[cylinder, :] = BoundaryF\n",
    "    momentumx[cylinder], momentumy[cylinder] = 0, 0"
   ]
  },
  {
   "cell_type": "code",
   "execution_count": 99,
   "id": "9a7f082b",
   "metadata": {},
   "outputs": [
    {
     "data": {
      "text/plain": [
       "(100, 400)"
      ]
     },
     "execution_count": 99,
     "metadata": {},
     "output_type": "execute_result"
    }
   ],
   "source": [
    "momentumy.shape"
   ]
  },
  {
   "cell_type": "code",
   "execution_count": 91,
   "id": "ebc94fbe",
   "metadata": {},
   "outputs": [
    {
     "data": {
      "text/plain": [
       "array([0.91554726, 0.89441895, 1.10001773, 1.06966805, 0.86990164,\n",
       "       0.93387722, 0.97666931, 2.3       , 0.95511099])"
      ]
     },
     "execution_count": 91,
     "metadata": {},
     "output_type": "execute_result"
    }
   ],
   "source": [
    "BoundaryF = F[cylinder, :]\n",
    "BoundaryF[0, [0, 5, 6, 7, 8, 1, 2, 3, 4]]"
   ]
  },
  {
   "cell_type": "code",
   "execution_count": 59,
   "id": "9b087a02",
   "metadata": {},
   "outputs": [
    {
     "data": {
      "text/plain": [
       "array([[0.99555423, 1.04926754, 0.9152987 , ..., 1.06617757, 0.92233977,\n",
       "        0.8981102 ],\n",
       "       [0.96241673, 0.91956879, 1.00728961, ..., 0.97498824, 0.90228761,\n",
       "        0.95988792],\n",
       "       [0.98948984, 0.8934224 , 1.01778643, ..., 0.91140218, 1.20278522,\n",
       "        1.02350535],\n",
       "       ...,\n",
       "       [0.81487632, 1.02847452, 0.93400655, ..., 1.02459423, 0.86351719,\n",
       "        0.91022434],\n",
       "       [0.91396188, 0.95150315, 0.9681389 , ..., 1.04435834, 0.91579719,\n",
       "        1.08638205],\n",
       "       [0.94178091, 1.14421717, 1.0271985 , ..., 0.75382468, 0.88274953,\n",
       "        1.00930585]])"
      ]
     },
     "execution_count": 59,
     "metadata": {},
     "output_type": "execute_result"
    }
   ],
   "source": [
    "F[:, :, 0]"
   ]
  },
  {
   "cell_type": "code",
   "execution_count": 45,
   "id": "ae7f3905",
   "metadata": {},
   "outputs": [
    {
     "data": {
      "text/plain": [
       "array([[3, 1, 2],\n",
       "       [6, 4, 5],\n",
       "       [9, 7, 8]])"
      ]
     },
     "execution_count": 45,
     "metadata": {},
     "output_type": "execute_result"
    }
   ],
   "source": [
    "np.roll(np.array([[1, 2, 3], [4, 5, 6], [7, 8, 9]]), 1, axis = 1)"
   ]
  },
  {
   "cell_type": "code",
   "execution_count": 33,
   "id": "994f4cad",
   "metadata": {},
   "outputs": [
    {
     "data": {
      "text/plain": [
       "(2, 3, 4)"
      ]
     },
     "execution_count": 33,
     "metadata": {},
     "output_type": "execute_result"
    }
   ],
   "source": [
    "np.full((2,3,4), 2).shape"
   ]
  },
  {
   "cell_type": "code",
   "execution_count": null,
   "id": "9aa1fbcd",
   "metadata": {},
   "outputs": [],
   "source": []
  }
 ],
 "metadata": {
  "kernelspec": {
   "display_name": "Python 3",
   "language": "python",
   "name": "python3"
  },
  "language_info": {
   "codemirror_mode": {
    "name": "ipython",
    "version": 3
   },
   "file_extension": ".py",
   "mimetype": "text/x-python",
   "name": "python",
   "nbconvert_exporter": "python",
   "pygments_lexer": "ipython3",
   "version": "3.11.5"
  }
 },
 "nbformat": 4,
 "nbformat_minor": 5
}
